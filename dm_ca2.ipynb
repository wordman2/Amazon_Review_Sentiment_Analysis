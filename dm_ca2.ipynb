{
 "cells": [
  {
   "cell_type": "code",
   "execution_count": null,
   "metadata": {},
   "outputs": [],
   "source": [
    "import pandas as pd\n",
    "import matplotlib.pyplot as plt\n",
    "import spacy\n",
    "from sklearn.model_selection import train_test_split"
   ]
  },
  {
   "cell_type": "markdown",
   "metadata": {},
   "source": [
    "CRISP-DM lifecycle:\n",
    "1. Business Understanding:\n",
    "• Understand the project's objectives and business goals, and define the problem you aim\n",
    "to solve with data mining.\n",
    "2. Data Understanding:\n",
    "• Gather and explore data to gain insights into its quality, structure, and relevance to the\n",
    "problem. This step often involves data collection, data profiling, and initial data analysis.\n",
    "3. Data Preparation:\n",
    "• Preprocess and clean the data to make it suitable for modeling. Tasks include handling\n",
    "missing values, dealing with outliers, and transforming variables.\n",
    "4. Modelling:\n",
    "• Select and apply appropriate data mining and machine learning techniques to build and evaluate\n",
    "models. This step includes selecting algorithms, and training models, and assessing their\n",
    "performance.\n",
    "5. Evaluation:\n",
    "• Assess the quality and effectiveness of the models developed in the previous step. This involves\n",
    "metrics, cross-validation, and comparing model performance against the project's goals.\n",
    "6. Deployment:\n",
    "• Deploy the selected model(s) into the production environment for real-world use. This step may\n",
    "involve integrating the model into business processes and monitoring its performance over time.\n"
   ]
  },
  {
   "cell_type": "markdown",
   "metadata": {},
   "source": [
    "# Data Mining: CA2\n",
    "by Peter and Jonas Wortmann\n",
    "## 1. Data understanding and Preparation\n",
    "Sentiment Analysis (SA) is a sub field of text mining and is used to extract the opinions, sentiments and subjectivity of text [[1]](#1). This assignment aims to classify the sentiment of user reviews based on their text features.\n",
    "\n",
    "<a id=\"1\">[1]</a> \n",
    "Walaa Medhat, Ahmed Hassan, Hoda Korashy,\n",
    "Sentiment analysis algorithms and applications: A survey,\n",
    "Ain Shams Engineering Journal,\n",
    "Volume 5, Issue 4,\n",
    "2014,\n",
    "Pages 1093-1113,\n",
    "ISSN 2090-4479,\n",
    "https://doi.org/10.1016/j.asej.2014.04.011.\n",
    "(https://www.sciencedirect.com/science/article/pii/S2090447914000550)"
   ]
  },
  {
   "cell_type": "code",
   "execution_count": 64,
   "metadata": {},
   "outputs": [
    {
     "data": {
      "text/html": [
       "<div>\n",
       "<style scoped>\n",
       "    .dataframe tbody tr th:only-of-type {\n",
       "        vertical-align: middle;\n",
       "    }\n",
       "\n",
       "    .dataframe tbody tr th {\n",
       "        vertical-align: top;\n",
       "    }\n",
       "\n",
       "    .dataframe thead th {\n",
       "        text-align: right;\n",
       "    }\n",
       "</style>\n",
       "<table border=\"1\" class=\"dataframe\">\n",
       "  <thead>\n",
       "    <tr style=\"text-align: right;\">\n",
       "      <th></th>\n",
       "      <th>reviewText</th>\n",
       "      <th>Positive</th>\n",
       "    </tr>\n",
       "  </thead>\n",
       "  <tbody>\n",
       "    <tr>\n",
       "      <th>0</th>\n",
       "      <td>This is a one of the best apps acording to a b...</td>\n",
       "      <td>1</td>\n",
       "    </tr>\n",
       "    <tr>\n",
       "      <th>1</th>\n",
       "      <td>This is a pretty good version of the game for ...</td>\n",
       "      <td>1</td>\n",
       "    </tr>\n",
       "    <tr>\n",
       "      <th>2</th>\n",
       "      <td>this is a really cool game. there are a bunch ...</td>\n",
       "      <td>1</td>\n",
       "    </tr>\n",
       "    <tr>\n",
       "      <th>3</th>\n",
       "      <td>This is a silly game and can be frustrating, b...</td>\n",
       "      <td>1</td>\n",
       "    </tr>\n",
       "    <tr>\n",
       "      <th>4</th>\n",
       "      <td>This is a terrific game on any pad. Hrs of fun...</td>\n",
       "      <td>1</td>\n",
       "    </tr>\n",
       "  </tbody>\n",
       "</table>\n",
       "</div>"
      ],
      "text/plain": [
       "                                          reviewText  Positive\n",
       "0  This is a one of the best apps acording to a b...         1\n",
       "1  This is a pretty good version of the game for ...         1\n",
       "2  this is a really cool game. there are a bunch ...         1\n",
       "3  This is a silly game and can be frustrating, b...         1\n",
       "4  This is a terrific game on any pad. Hrs of fun...         1"
      ]
     },
     "execution_count": 64,
     "metadata": {},
     "output_type": "execute_result"
    }
   ],
   "source": [
    "user_reviews = pd.read_csv(\"amazon.csv\")\n",
    "with open(\"StopWords.txt\", \"r\") as f:\n",
    "    stopwords = f.read().splitlines() \n",
    "user_reviews.head()"
   ]
  },
  {
   "cell_type": "code",
   "execution_count": 65,
   "metadata": {},
   "outputs": [
    {
     "name": "stdout",
     "output_type": "stream",
     "text": [
      "<class 'pandas.core.frame.DataFrame'>\n",
      "RangeIndex: 20000 entries, 0 to 19999\n",
      "Data columns (total 2 columns):\n",
      " #   Column      Non-Null Count  Dtype \n",
      "---  ------      --------------  ----- \n",
      " 0   reviewText  20000 non-null  object\n",
      " 1   Positive    20000 non-null  int64 \n",
      "dtypes: int64(1), object(1)\n",
      "memory usage: 312.6+ KB\n"
     ]
    }
   ],
   "source": [
    "user_reviews.info()"
   ]
  },
  {
   "cell_type": "code",
   "execution_count": 66,
   "metadata": {},
   "outputs": [
    {
     "data": {
      "text/plain": [
       "<Axes: xlabel='Positive'>"
      ]
     },
     "execution_count": 66,
     "metadata": {},
     "output_type": "execute_result"
    },
    {
     "data": {
      "image/png": "[encoded data removed]",
      "text/plain": [
       "<Figure size 640x480 with 1 Axes>"
      ]
     },
     "metadata": {},
     "output_type": "display_data"
    }
   ],
   "source": [
    "user_reviews.Positive.value_counts().plot(kind=\"bar\", rot=0)"
   ]
  },
  {
   "cell_type": "markdown",
   "metadata": {},
   "source": [
    "The dataset contains 20,000 rows. Each row consists of a user review and it's corresponding sentiments. The labels are encoded as integers, 1 = positive and 0 = negative. The dataset has unbalanced classes as you can see in the plot above.\n",
    "\n",
    "### Data quality"
   ]
  },
  {
   "cell_type": "code",
   "execution_count": 67,
   "metadata": {},
   "outputs": [
    {
     "data": {
      "text/plain": [
       "'This is a one of the best apps acording to a bunch of people and I agree it has bombs eggs pigs TNT king pigs and realustic stuff'"
      ]
     },
     "execution_count": 67,
     "metadata": {},
     "output_type": "execute_result"
    }
   ],
   "source": [
    "user_reviews.iloc[0].reviewText"
   ]
  },
  {
   "cell_type": "code",
   "execution_count": 68,
   "metadata": {},
   "outputs": [
    {
     "data": {
      "text/plain": [
       "'this. is fun an time consuming. works great on my kindle fire I really like this game so does my btother'"
      ]
     },
     "execution_count": 68,
     "metadata": {},
     "output_type": "execute_result"
    }
   ],
   "source": [
    "user_reviews.iloc[11].reviewText"
   ]
  },
  {
   "cell_type": "markdown",
   "metadata": {},
   "source": [
    "The reviews contain spelling mistakes, for example \"btother\", \"realustic\" and \"acording\" as you can see in the texts above."
   ]
  },
  {
   "cell_type": "markdown",
   "metadata": {},
   "source": [
    "### Cleaning\n",
    "[[2]](#2) compare punctuation removal in sentiment analysis scenarios of english and turkish reviews and come to the conclusion to keep punctuation and stopwords because they contain meaningful information in terms of their sentiment. [[3]](#3) also identifies punctuation as a good feature for Twitter sentiment analysis. Therefore, this assignment experiments with stopwords und punctuation removal and creates the following four feature sets:\n",
    "1. Stopwords removed (SR)\n",
    "2. Punctuation removed (PR)\n",
    "3. Stopwords and punctuation removed (SR & PR)\n",
    "4. Stopwords and punctuation kept\n",
    "\n",
    "<a id=\"2\">[2]</a> Parlar, Tuba & Özel, Selma & Song, Fei. (2019). Analysis of data pre-processing methods for the sentiment analysis of reviews. Computer Science. 20. 123. 10.7494/csci.2019.20.1.3097. \n",
    "<a id=\"3\">[3]</a>  Koto, F., Adriani, M. (2015). A Comparative Study on Twitter Sentiment Analysis: Which Features are Good?. In: Biemann, C., Handschuh, S., Freitas, A., Meziane, F., Métais, E. (eds) Natural Language Processing and Information Systems. NLDB 2015. Lecture Notes in Computer Science(), vol 9103. Springer, Cham. https://doi.org/10.1007/978-3-319-19581-0_46"
   ]
  },
  {
   "cell_type": "code",
   "execution_count": 69,
   "metadata": {},
   "outputs": [],
   "source": [
    "nlp = spacy.load(\"en_core_web_sm\")\n",
    "\n",
    "def tokenize(text: str, remove_punct=False):\n",
    "    doc = nlp(text)\n",
    "    tokens = [token.text for token in doc] if not remove_punct else [token.text for token in doc if not token.is_punct]\n",
    "    return tokens\n",
    "\n",
    "def remove_stopwords(tokens:list, stopword_list:list):\n",
    "    tokens = set(tokens)\n",
    "    stopwords = set(stopword_list)\n",
    "    tokens.difference_update(stopwords)\n",
    "    return list(tokens)"
   ]
  },
  {
   "cell_type": "code",
   "execution_count": 70,
   "metadata": {},
   "outputs": [],
   "source": [
    "# lowercase and tokenize\n",
    "user_reviews[\"tokens_PR\"] = user_reviews.reviewText.str.lower().apply(tokenize, remove_punct=True)\n",
    "user_reviews[\"tokens\"] = user_reviews.reviewText.str.lower().apply(tokenize, remove_punct=False)\n",
    "# remove stopwords\n",
    "user_reviews[\"tokens_SR\"] = user_reviews.tokens.apply(remove_stopwords, stopword_list=stopwords)\n",
    "user_reviews[\"tokens_PR_SR\"] = user_reviews.tokens_PR.apply(remove_stopwords, stopword_list=stopwords)\n",
    "\n",
    "user_reviews.head()"
   ]
  },
  {
   "cell_type": "code",
   "execution_count": null,
   "metadata": {},
   "outputs": [
    {
     "data": {
      "text/html": [
       "<div>\n",
       "<style scoped>\n",
       "    .dataframe tbody tr th:only-of-type {\n",
       "        vertical-align: middle;\n",
       "    }\n",
       "\n",
       "    .dataframe tbody tr th {\n",
       "        vertical-align: top;\n",
       "    }\n",
       "\n",
       "    .dataframe thead th {\n",
       "        text-align: right;\n",
       "    }\n",
       "</style>\n",
       "<table border=\"1\" class=\"dataframe\">\n",
       "  <thead>\n",
       "    <tr style=\"text-align: right;\">\n",
       "      <th></th>\n",
       "      <th>reviewText</th>\n",
       "      <th>Positive</th>\n",
       "      <th>tokens</th>\n",
       "      <th>tokens_stopwords_removed</th>\n",
       "    </tr>\n",
       "  </thead>\n",
       "  <tbody>\n",
       "    <tr>\n",
       "      <th>0</th>\n",
       "      <td>This is a one of the best apps acording to a b...</td>\n",
       "      <td>1</td>\n",
       "      <td>[this, is, a, one, of, the, best, apps, acordi...</td>\n",
       "      <td>[eggs, pigs, apps, bunch, bombs, acording, stu...</td>\n",
       "    </tr>\n",
       "    <tr>\n",
       "      <th>1</th>\n",
       "      <td>This is a pretty good version of the game for ...</td>\n",
       "      <td>1</td>\n",
       "      <td>[this, is, a, pretty, good, version, of, the, ...</td>\n",
       "      <td>[game, levels, enjoy, play, lots, lot, kids, f...</td>\n",
       "    </tr>\n",
       "    <tr>\n",
       "      <th>2</th>\n",
       "      <td>this is a really cool game. there are a bunch ...</td>\n",
       "      <td>1</td>\n",
       "      <td>[this, is, a, really, cool, game, there, are, ...</td>\n",
       "      <td>[game, super, eggs, levels, golden, bunch, fun...</td>\n",
       "    </tr>\n",
       "    <tr>\n",
       "      <th>3</th>\n",
       "      <td>This is a silly game and can be frustrating, b...</td>\n",
       "      <td>1</td>\n",
       "      <td>[this, is, a, silly, game, and, can, be, frust...</td>\n",
       "      <td>[game, time, lots, frustrating, fun, definitel...</td>\n",
       "    </tr>\n",
       "    <tr>\n",
       "      <th>4</th>\n",
       "      <td>This is a terrific game on any pad. Hrs of fun...</td>\n",
       "      <td>1</td>\n",
       "      <td>[this, is, a, terrific, game, on, any, pad, hr...</td>\n",
       "      <td>[game, waiting, grandkids, hrs, love, lines, f...</td>\n",
       "    </tr>\n",
       "  </tbody>\n",
       "</table>\n",
       "</div>"
      ],
      "text/plain": [
       "                                          reviewText  Positive  \\\n",
       "0  This is a one of the best apps acording to a b...         1   \n",
       "1  This is a pretty good version of the game for ...         1   \n",
       "2  this is a really cool game. there are a bunch ...         1   \n",
       "3  This is a silly game and can be frustrating, b...         1   \n",
       "4  This is a terrific game on any pad. Hrs of fun...         1   \n",
       "\n",
       "                                              tokens  \\\n",
       "0  [this, is, a, one, of, the, best, apps, acordi...   \n",
       "1  [this, is, a, pretty, good, version, of, the, ...   \n",
       "2  [this, is, a, really, cool, game, there, are, ...   \n",
       "3  [this, is, a, silly, game, and, can, be, frust...   \n",
       "4  [this, is, a, terrific, game, on, any, pad, hr...   \n",
       "\n",
       "                            tokens_stopwords_removed  \n",
       "0  [eggs, pigs, apps, bunch, bombs, acording, stu...  \n",
       "1  [game, levels, enjoy, play, lots, lot, kids, f...  \n",
       "2  [game, super, eggs, levels, golden, bunch, fun...  \n",
       "3  [game, time, lots, frustrating, fun, definitel...  \n",
       "4  [game, waiting, grandkids, hrs, love, lines, f...  "
      ]
     },
     "execution_count": 61,
     "metadata": {},
     "output_type": "execute_result"
    }
   ],
   "source": [
    "RANDOM_STATE = 1\n",
    "\n",
    "train_X, train_y, test_X, test_y = train_test_split(X = user_reviews[\"tokens\"], y = user_reviews[\"Positive\"], test_size=0.3)"
   ]
  }
 ],
 "metadata": {
  "kernelspec": {
   "display_name": "dm_ca1",
   "language": "python",
   "name": "python3"
  },
  "language_info": {
   "codemirror_mode": {
    "name": "ipython",
    "version": 3
   },
   "file_extension": ".py",
   "mimetype": "text/x-python",
   "name": "python",
   "nbconvert_exporter": "python",
   "pygments_lexer": "ipython3",
   "version": "3.11.0"
  }
 },
 "nbformat": 4,
 "nbformat_minor": 2
}
