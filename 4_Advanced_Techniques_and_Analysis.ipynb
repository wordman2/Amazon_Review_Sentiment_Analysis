{
 "cells": [
  {
   "cell_type": "code",
   "execution_count": 3,
   "metadata": {},
   "outputs": [],
   "source": [
    "import gensim\n",
    "from gensim.utils import simple_preprocess\n",
    "import pandas as pd\n",
    "import spacy\n",
    "RANDOM_STATE = 1"
   ]
  },
  {
   "cell_type": "markdown",
   "metadata": {},
   "source": [
    "# 4. Advanced Techniques and Analysis\n",
    "This section includes further text mining techniques: LDA for topic modeling and k-Means for clustering reviews. Similar to section 3, the machine learning models are trained and evaluated to assess their quality and effectiveness. \n",
    "## Latent Dirichlet Allocation (LDA)\n",
    "LDA is a topic modeling algorithm that makes use of dimension reduction. Compared to T-SNE of section 2, LDA assumes that n latent topics are distributed randomly in each document where each topic is distinguished by a distribution of words [[8]](#8). \\\n",
    "For the LDA model, the rewiews are tokenized, punctuation is removed and the stop words of the stop word list are removed. Additionally tokens containing an apostrophe like \"'ve\" or \"\\'s\" are removed which have high impact on the results. The LDA model results in 5 topics, and the first 10 top keywords of each topic are displayed below.\n"
   ]
  },
  {
   "cell_type": "code",
   "execution_count": 5,
   "metadata": {},
   "outputs": [],
   "source": [
    "with open(\"StopWords.txt\", \"r\") as f:\n",
    "    stop_words = f.read().splitlines()\n",
    "\n",
    "user_reviews = pd.read_csv(\"data/amazon.csv\")\n",
    "\n",
    "nlp = spacy.load(\"en_core_web_sm\")\n",
    "\n",
    "def tokenize(text: str, remove_punct=False):\n",
    "    doc = nlp(text)\n",
    "    tokens = [token.text for token in doc] if not remove_punct else [token.text for token in doc if not token.is_punct]\n",
    "    return tokens\n",
    "\n",
    "def remove_stopwords(tokens:list, stopword_list:list):\n",
    "    tokens = set(tokens)\n",
    "    stopwords = set(stopword_list)\n",
    "    tokens.difference_update(stopwords)\n",
    "    return list(tokens)\n",
    "\n",
    "stop_words = stop_words + [\" \", \"n\\'t\", \"\\'s\",\"\\'ve\", \"\\'m\", \"nt\", \"am\"]\n",
    "\n",
    "user_reviews[\"cleanedText\"] = user_reviews.reviewText.str.lower().apply(tokenize, remove_punct=True).apply(remove_stopwords, stopword_list=stop_words)\n"
   ]
  },
  {
   "cell_type": "code",
   "execution_count": 62,
   "metadata": {},
   "outputs": [
    {
     "name": "stdout",
     "output_type": "stream",
     "text": [
      "['bunch', 'realustic', 'apps', 'eggs', 'acording', 'bombs', 'tnt', 'stuff', 'king', 'agree', 'pigs', 'people']\n"
     ]
    }
   ],
   "source": [
    "import gensim.corpora as corpora\n",
    "\n",
    "corpus = user_reviews[\"cleanedText\"].tolist()\n",
    "# Create Dictionary\n",
    "id2word = corpora.Dictionary(corpus)\n",
    "\n",
    "# Term Document Frequency\n",
    "tf = [id2word.doc2bow(text) for text in corpus]\n",
    "print(corpus[0])"
   ]
  },
  {
   "cell_type": "code",
   "execution_count": 67,
   "metadata": {},
   "outputs": [
    {
     "name": "stdout",
     "output_type": "stream",
     "text": [
      "[(0,\n",
      "  '0.043*\"app\" + 0.034*\"kindle\" + 0.027*\"fire\" + 0.011*\"phone\" + 0.010*\"love\" '\n",
      "  '+ 0.009*\"free\" + 0.008*\"easy\" + 0.007*\"android\" + 0.007*\"apps\" + '\n",
      "  '0.006*\"time\"'),\n",
      " (1,\n",
      "  '0.044*\"app\" + 0.013*\"love\" + 0.010*\"day\" + 0.009*\"time\" + 0.008*\"alarm\" + '\n",
      "  '0.008*\"free\" + 0.007*\"easy\" + 0.006*\"apps\" + 0.005*\"clock\" + 0.005*\"using\"'),\n",
      " (2,\n",
      "  '0.009*\"app\" + 0.008*\"simple\" + 0.005*\"farm\" + 0.005*\"easy\" + 0.005*\"widget\" '\n",
      "  '+ 0.004*\"setting\" + 0.004*\"flight\" + 0.003*\"love\" + 0.003*\"game\" + '\n",
      "  '0.003*\"organized\"'),\n",
      " (3,\n",
      "  '0.045*\"game\" + 0.029*\"app\" + 0.023*\"fun\" + 0.018*\"love\" + 0.016*\"time\" + '\n",
      "  '0.016*\"play\" + 0.010*\"free\" + 0.008*\"games\" + 0.008*\"playing\" + '\n",
      "  '0.006*\"people\"'),\n",
      " (4,\n",
      "  '0.030*\"app\" + 0.012*\"easy\" + 0.012*\"love\" + 0.008*\"bible\" + 0.008*\"read\" + '\n",
      "  '0.006*\"text\" + 0.006*\"keyboard\" + 0.006*\"apps\" + 0.006*\"google\" + '\n",
      "  '0.004*\"able\"')]\n"
     ]
    }
   ],
   "source": [
    "from pprint import pprint\n",
    "# number of topics\n",
    "num_topics = 5\n",
    "# Build LDA model\n",
    "lda_model = gensim.models.LdaModel(corpus=tf,\n",
    "                                       id2word=id2word,\n",
    "                                       num_topics=num_topics,\n",
    "                                       random_state=RANDOM_STATE, alpha='auto', eta='auto')\n",
    "# Print the Keyword in the 10 topics\n",
    "pprint(lda_model.print_topics(num_words=10))\n",
    "doc_lda = lda_model[tf]"
   ]
  },
  {
   "cell_type": "markdown",
   "metadata": {},
   "source": [
    "\"App\" is represented in every topic with a high weight. You also see \"apps\" in topic 0, 1 and 4 because no stemming was applied in the preprocessing step. Keywords in topic 4 suggests to be a topic about reading and books, since it includes \"bible\", \"read\" and \"text\". Topic 1 seems to be about an alarm / clock app, which we've already discussed in section 2 by exploring the T-SNE visualization. It is also difficult to extract meaningful topics from the top 10 keywords of each topic, especially because the topics have a large overlap. In further experiments the number of topics could be modified or the dictionary could be minimized by a specific POS-tag, e. g. only nouns are considered."
   ]
  },
  {
   "cell_type": "markdown",
   "metadata": {},
   "source": [
    "## k-Means Clustering\n",
    "Clustering involves grouping similar data points together. K-means is a widely used clustering algorithm that partitions data into K clusters based on similarity. It is often applied in text analysis to discover patterns and group similar documents [[9]](#9). In this assignment, k-means is applied to cluster similar reviews by using BERT embeddings. To find an optimal k for the clustering algorithm, the elbow method is applied. The idea behind the elbow method is that one should choose a k that adding another cluster (k+1) doesn't give much better modelling of the data [[10]](10). To inspect this, k is plotted against the variance explained by the clusters."
   ]
  },
  {
   "cell_type": "code",
   "execution_count": 1,
   "metadata": {},
   "outputs": [
    {
     "name": "stderr",
     "output_type": "stream",
     "text": [
      "c:\\Users\\jonas\\anaconda3\\envs\\dm_ca2\\Lib\\site-packages\\sklearn\\cluster\\_kmeans.py:1416: FutureWarning: The default value of `n_init` will change from 10 to 'auto' in 1.4. Set the value of `n_init` explicitly to suppress the warning\n",
      "  super()._check_params_vs_input(X, default_n_init=10)\n",
      "c:\\Users\\jonas\\anaconda3\\envs\\dm_ca2\\Lib\\site-packages\\sklearn\\cluster\\_kmeans.py:1416: FutureWarning: The default value of `n_init` will change from 10 to 'auto' in 1.4. Set the value of `n_init` explicitly to suppress the warning\n",
      "  super()._check_params_vs_input(X, default_n_init=10)\n",
      "c:\\Users\\jonas\\anaconda3\\envs\\dm_ca2\\Lib\\site-packages\\sklearn\\cluster\\_kmeans.py:1416: FutureWarning: The default value of `n_init` will change from 10 to 'auto' in 1.4. Set the value of `n_init` explicitly to suppress the warning\n",
      "  super()._check_params_vs_input(X, default_n_init=10)\n",
      "c:\\Users\\jonas\\anaconda3\\envs\\dm_ca2\\Lib\\site-packages\\sklearn\\cluster\\_kmeans.py:1416: FutureWarning: The default value of `n_init` will change from 10 to 'auto' in 1.4. Set the value of `n_init` explicitly to suppress the warning\n",
      "  super()._check_params_vs_input(X, default_n_init=10)\n",
      "c:\\Users\\jonas\\anaconda3\\envs\\dm_ca2\\Lib\\site-packages\\sklearn\\cluster\\_kmeans.py:1416: FutureWarning: The default value of `n_init` will change from 10 to 'auto' in 1.4. Set the value of `n_init` explicitly to suppress the warning\n",
      "  super()._check_params_vs_input(X, default_n_init=10)\n",
      "c:\\Users\\jonas\\anaconda3\\envs\\dm_ca2\\Lib\\site-packages\\sklearn\\cluster\\_kmeans.py:1416: FutureWarning: The default value of `n_init` will change from 10 to 'auto' in 1.4. Set the value of `n_init` explicitly to suppress the warning\n",
      "  super()._check_params_vs_input(X, default_n_init=10)\n",
      "c:\\Users\\jonas\\anaconda3\\envs\\dm_ca2\\Lib\\site-packages\\sklearn\\cluster\\_kmeans.py:1416: FutureWarning: The default value of `n_init` will change from 10 to 'auto' in 1.4. Set the value of `n_init` explicitly to suppress the warning\n",
      "  super()._check_params_vs_input(X, default_n_init=10)\n",
      "c:\\Users\\jonas\\anaconda3\\envs\\dm_ca2\\Lib\\site-packages\\sklearn\\cluster\\_kmeans.py:1416: FutureWarning: The default value of `n_init` will change from 10 to 'auto' in 1.4. Set the value of `n_init` explicitly to suppress the warning\n",
      "  super()._check_params_vs_input(X, default_n_init=10)\n",
      "c:\\Users\\jonas\\anaconda3\\envs\\dm_ca2\\Lib\\site-packages\\sklearn\\cluster\\_kmeans.py:1416: FutureWarning: The default value of `n_init` will change from 10 to 'auto' in 1.4. Set the value of `n_init` explicitly to suppress the warning\n",
      "  super()._check_params_vs_input(X, default_n_init=10)\n",
      "c:\\Users\\jonas\\anaconda3\\envs\\dm_ca2\\Lib\\site-packages\\sklearn\\cluster\\_kmeans.py:1416: FutureWarning: The default value of `n_init` will change from 10 to 'auto' in 1.4. Set the value of `n_init` explicitly to suppress the warning\n",
      "  super()._check_params_vs_input(X, default_n_init=10)\n"
     ]
    },
    {
     "data": {
      "image/png": "[encoded data removed]",
      "text/plain": [
       "<Figure size 640x480 with 1 Axes>"
      ]
     },
     "metadata": {},
     "output_type": "display_data"
    }
   ],
   "source": [
    "import pickle\n",
    "import numpy as np\n",
    "from sklearn.cluster import KMeans\n",
    "import matplotlib.pyplot as plt\n",
    "\n",
    "\n",
    "# Load BERT embeddings from pickle file\n",
    "with open('data/embeddings.pkl', 'rb') as f:\n",
    "    bert_embeddings = pickle.load(f)\n",
    "\n",
    "# Convert the list of embeddings to a numpy array\n",
    "bert_embeddings_np = np.vstack(bert_embeddings.values)\n",
    "\n",
    "# Specify the number of clusters (k) for k-means\n",
    "k = 5  # Adjust this according to your requirements\n",
    "\n",
    "inertias = []\n",
    "for k in range(1, 11):\n",
    "    kmeans = KMeans(n_clusters=k, random_state=42)\n",
    "    kmeans.fit(bert_embeddings_np)\n",
    "    inertias.append(kmeans.inertia_)\n",
    "\n",
    "plt.plot(range(1, 11), inertias, marker='o')\n",
    "plt.xlabel('Number of clusters (k)')\n",
    "plt.ylabel('Inertia')\n",
    "plt.title('Elbow Method for Optimal k')\n",
    "plt.show()\n"
   ]
  },
  {
   "cell_type": "markdown",
   "metadata": {},
   "source": [
    "The figure above shows that there is no optimal value of k, as the variance explained constantly decreases. Therefore we'll utilize the clustering algorithm with k=2 to investigate whether k-Means will distinguish between positive and negative reviews."
   ]
  },
  {
   "cell_type": "code",
   "execution_count": 6,
   "metadata": {},
   "outputs": [
    {
     "name": "stderr",
     "output_type": "stream",
     "text": [
      "c:\\Users\\jonas\\anaconda3\\envs\\dm_ca2\\Lib\\site-packages\\sklearn\\cluster\\_kmeans.py:1416: FutureWarning: The default value of `n_init` will change from 10 to 'auto' in 1.4. Set the value of `n_init` explicitly to suppress the warning\n",
      "  super()._check_params_vs_input(X, default_n_init=10)\n"
     ]
    },
    {
     "data": {
      "text/plain": [
       "cluster\n",
       "1    12620\n",
       "0     7380\n",
       "Name: count, dtype: int64"
      ]
     },
     "execution_count": 6,
     "metadata": {},
     "output_type": "execute_result"
    }
   ],
   "source": [
    "k = 2\n",
    "# Initialize and fit the k-means model\n",
    "kmeans = KMeans(n_clusters=k, random_state=RANDOM_STATE)\n",
    "kmeans.fit(bert_embeddings_np)\n",
    "\n",
    "# Get cluster labels for each data point\n",
    "user_reviews[\"cluster\"] = kmeans.labels_\n",
    "cluster_1 = user_reviews[\"cluster\"] == 1\n",
    "cluster_2 = user_reviews[\"cluster\"] == 0\n",
    "user_reviews.cluster.value_counts()"
   ]
  },
  {
   "cell_type": "code",
   "execution_count": 19,
   "metadata": {},
   "outputs": [
    {
     "data": {
      "text/plain": [
       "Positive\n",
       "1    10625\n",
       "0     1995\n",
       "Name: count, dtype: int64"
      ]
     },
     "execution_count": 19,
     "metadata": {},
     "output_type": "execute_result"
    }
   ],
   "source": [
    "user_reviews[cluster_1].Positive.value_counts()"
   ]
  },
  {
   "cell_type": "code",
   "execution_count": 20,
   "metadata": {},
   "outputs": [
    {
     "data": {
      "text/plain": [
       "Positive\n",
       "1    4608\n",
       "0    2772\n",
       "Name: count, dtype: int64"
      ]
     },
     "execution_count": 20,
     "metadata": {},
     "output_type": "execute_result"
    }
   ],
   "source": [
    "user_reviews[cluster_2].Positive.value_counts()"
   ]
  },
  {
   "cell_type": "code",
   "execution_count": 10,
   "metadata": {},
   "outputs": [
    {
     "name": "stdout",
     "output_type": "stream",
     "text": [
      "This is a pretty good version of the game for being free. There are LOTS of different levels to play. My kids enjoy it a lot too.\n",
      "this is a really cool game. there are a bunch of levels and you can find golden eggs. super fun.\n",
      "This is a silly game and can be frustrating, but lots of fun and definitely recommend just as a fun time.\n",
      "This is a very entertaining game!  You don't have to be smart to play it.  I guess that's why I like it...it's easy and fun and that's what games are suppose to be.  Be warned: this game is highly addictive.\n",
      "this is awesome and you don't need wi ti to play trust me. it is really fun and addicting. there are like 100 levels it is even free don't waste your money on the expensive one I mean seriously. get the app\n",
      "This is basicly the free version but with ads. That's actually awesome!!!! It's addicting and free at the same time really. I'd reccomend it.\n",
      "this is by far the best free app that is available anywhere. it has helped pass the time when nothing else would do. don't pass this one up. PS I hate this 20 word minimum!\n",
      "This is definitely a great game.  I have to get my 6-year-old grand-nephew to teach me the tricks.  I have figured out some of them, but some configurations are tough to beat.  I don't particularly care spending about 45 minutes  completing a level, but \n",
      "this. is fun an time consuming. works great on my kindle fire I really like this game so does my btother\n",
      "This is good if you like physics games, free games, or bird games. Not like free version on ipod. You get all the levels and the only adds pop up in the corner and are barely noticeable.\n"
     ]
    }
   ],
   "source": [
    "_ = user_reviews[cluster_1].reviewText[:10].apply(print)"
   ]
  },
  {
   "cell_type": "code",
   "execution_count": 17,
   "metadata": {},
   "outputs": [
    {
     "name": "stdout",
     "output_type": "stream",
     "text": [
      "This is a one of the best apps acording to a bunch of people and I agree it has bombs eggs pigs TNT king pigs and realustic stuff\n",
      "This is a terrific game on any pad. Hrs of fun.  My grandkids love it. Great entertainment when waiting in long lines\n",
      "this is awesome I bet no one even reads the reviews because they know this game is so good that they don't need to\n",
      "This is great! This is my tried & true game to cure boredom! Its great to try & get 3 stars on every level!\n",
      "This is super fun though a little frustrating at times!!!!!!!!! I loved it before I got my kindle I would beg my brother and dad to play. But when I get it I play it all the time!!!!!!\n",
      "this is the best app I ever downloaded for most of you people who say 1 2 3 or 4 stars you don't know much about what your supposed to do I purfor 5 stars for this app\n",
      "THIS IS THE BESTEST GAME EVER OMG. IM SO EXCITED :TO PLAY OMG!!!!!!! OMG OMG OMG I LOVE ANGRY BIRDS SO MUCH ITS DA BOMB DIGGETY SO COOL OMG OMG OMG OMG OMG\n",
      "this is the BEST game ever you should buy it the most awesome game in the whole wide world.  :D\n",
      "this is the best game they could think of.I downloaded it and my fav. character is the original pig.yay love it\n",
      "this is the first angry birds. so when you get in2 this one it'll leas to you wanting angry birds seasons and angry birds Rio. But they're all fantastic!!!!!!!!\n"
     ]
    }
   ],
   "source": [
    "_ = user_reviews[cluster_2].reviewText[:10].apply(print)"
   ]
  },
  {
   "cell_type": "code",
   "execution_count": 14,
   "metadata": {},
   "outputs": [
    {
     "name": "stdout",
     "output_type": "stream",
     "text": [
      ".I don't get why the birds angry.I don't get why everyone likes it. its not that fun of game.\n",
      "i dont like it.  it stinks. it takes so much to make the stupid pigs die. they dont die quick enough. and the birds NEVER go where i want the to go. it is so frustrating that sometimes i want to throw my kindle across the room.  you can do better rovio. \n",
      "I don't like it so I say if you get it you are either so addicted you don't have a life or you got it for when there is almost nothing else to do or it is for a sinking or you are almost dead or you are dead oh ya also I just like posting random reviews\n",
      "I don't under stand what the big deal is about this game my dad loves it and my brothers both like it but I don't under stand but whatever\n",
      "I don't understand why this game is as popular as it is. I found it silly and boring. what is all the hype about?\n",
      "I doundt think there should be a fee to use the mighty ehgle so I rate it a zero star ...... you\n",
      "I guess you can tell by the title that I'm not that young. I don't have a clue what this is all about.It's not relevant to anything I do!\n",
      "I hate this app so much it stinks so I deleted it  all you do is shoot an ugly bird to kill pigs.  REALLY ROVIO???\n",
      "I thought this was going to be the best game ever but it was boring. The characters are really cute, but it's the same thing over and over again. Fling the bird, try to smash a pig. Maybe it's just a quirk, but it's so SLOW. It takes ten to fifteen secon\n",
      "It might seem fun at first but,after awhile it gets totally boring.I got ,my kindle for X-mas,and this was my first app.but,as I said.....it might seem fun at first.worst app ever.\n"
     ]
    }
   ],
   "source": [
    "_ = user_reviews[cluster_2].reviewText[80:90].apply(print)"
   ]
  },
  {
   "cell_type": "markdown",
   "metadata": {},
   "source": [
    "Cluster 1 contains 12,620 instances, while cluster 2 contains 7,380. Cluster 1 has over 10,500 positive reviews and only 1,995 negative reviews, whereas cluster 2 has only 4,608 positive and 2,772 negative reviews so both clusters don't seem to distinguish very well in terms of sentiment. Next, we'll take a closer look at the reviews that has the widest and the closest distances to each cluster centre."
   ]
  },
  {
   "cell_type": "code",
   "execution_count": 67,
   "metadata": {},
   "outputs": [
    {
     "name": "stdout",
     "output_type": "stream",
     "text": [
      "Cluster 1 widest:\n",
      "free app free app first commentfree free free free free free free free free free free free free apppppppppppp of the day 8.92 \n",
      "\n",
      "Uninstalled 7.82 \n",
      "\n",
      "Remove app from Digital Device 7.64 \n",
      "\n",
      "Cluster 1 closest:\n",
      "I love this app! I like that I can write with my finger or type on the page if I choose. Since I type fast it would be great if the app wouldn't lag behind. I recommend this app for anyone who likes to keep notes or journals. I currently have this app ru 2.66 \n",
      "\n",
      "This App is so worth the price.  Now I got mine on the Free App of the day however, I wouldn't mind paying for it.  This App is endless...by that I mean, you can use your own pictures to create a puzzle.  The App keeps track of your completion time and n 2.63 \n",
      "\n",
      "Beautiful and full size pictures/puzzles on my tablet (running Honeycomb 3.2).  It is intuitive and easy to play.  I didn't get this app for excitement, but rather because I enjoy puzzles.  The developer didn't put in unnecessary permissions.  To top it  2.59 \n",
      "\n",
      "Cluster 2 widest:\n",
      "Fun and interesting to read.  _____ ____ ____ ____ __ __ ____ _____ _ ___ _____ ____ _____ ____ ___ 12.89 \n",
      "\n",
      "app is very usefull i got my amazon market debt paid off.. ;) good layout,...................................................................................................................................................................... good good app 11.2 \n",
      "\n",
      "dd d s s s s s ss s s s s s s s d s. s s s d s d dd d d d x xx 11.04 \n",
      "\n",
      "Cluster 2 closest:\n",
      "I admit I&apos;m a free app whore. I download them then never review them. This app deserves a review though. It has amazing graphics and works great on Thunderbolt. Like Google Earth only a million times better!! I wish I was a great reviewer but alas I 2.98 \n",
      "\n",
      "look if you&apos;re going to download this app you better like old time radio stories. people voting one star because they think these kinds of stories are lame have no business downloading let alone reviewing this app. that said, this is a very easy to  2.96 \n",
      "\n",
      "I have &#34;Farkle Addict&#34; on my I phone and I LOVE that game. This one does not allow you to play a 1 person game and that is how I enjoy playing Farkle. Usually play it when I don't have much time to play, like when waiting in a Dr office. I wish y 2.89 \n",
      "\n"
     ]
    }
   ],
   "source": [
    "from sklearn.metrics import pairwise_distances_argmin_min\n",
    "\n",
    "# Calculate distances between data points and cluster centers\n",
    "distances = pairwise_distances_argmin_min(bert_embeddings_np, kmeans.cluster_centers_)[1]\n",
    "# Round distances to 2 decimal places\n",
    "distances = np.round(distances, 2)\n",
    "# Add distances to your DataFrame (assuming you have one)\n",
    "user_reviews['distance_to_cluster_center'] = distances\n",
    "\n",
    "# Sort DataFrame by distance in descending order to find instances with widest distances\n",
    "widest_distances_instances = user_reviews.sort_values(by='distance_to_cluster_center', ascending=False)\n",
    "\n",
    "widest_distances_cluster_1 = widest_distances_instances.loc[cluster_1,['reviewText', 'distance_to_cluster_center', 'cluster', 'Positive']].head(3)\n",
    "closest_distances_cluster_1 = widest_distances_instances.loc[cluster_1,['reviewText', 'distance_to_cluster_center', 'cluster', 'Positive']].tail(3)\n",
    "widest_distances_cluster_2 = widest_distances_instances.loc[cluster_2,['reviewText', 'distance_to_cluster_center', 'cluster', 'Positive']].head(3)\n",
    "closest_distances_cluster_2 = widest_distances_instances.loc[cluster_2,['reviewText', 'distance_to_cluster_center', 'cluster', 'Positive']].tail(3)\n",
    "print(\"Cluster 1 widest:\")\n",
    "_ = widest_distances_cluster_1.apply(lambda x: print(x[\"reviewText\"], x[\"distance_to_cluster_center\"],\"\\n\"), axis=1)\n",
    "print(\"Cluster 1 closest:\")\n",
    "_ = closest_distances_cluster_1.apply(lambda x: print(x[\"reviewText\"], x[\"distance_to_cluster_center\"],\"\\n\"), axis=1)\n",
    "print(\"Cluster 2 widest:\")\n",
    "_ = widest_distances_cluster_2.apply(lambda x: print(x[\"reviewText\"], x[\"distance_to_cluster_center\"],\"\\n\"), axis=1)\n",
    "print(\"Cluster 2 closest:\")\n",
    "_ = closest_distances_cluster_2.apply(lambda x: print(x[\"reviewText\"], x[\"distance_to_cluster_center\"],\"\\n\"), axis=1)\n"
   ]
  },
  {
   "cell_type": "markdown",
   "metadata": {},
   "source": [
    "Both clusters have as widest data points as widest data points, reviews that contain shorter texts and less information compared to the closest data points. The two closest data points to cluster 1 address a puzzle app. No patterns can be derived by the closest data points for second cluster centre."
   ]
  },
  {
   "cell_type": "markdown",
   "metadata": {},
   "source": [
    "<a id=\"8\">[8]</a> Mohammed, Shaymaa & Al-augby, Salam. (2020). LSA & LDA Topic Modeling Classification: Comparison study on E-books. 2502-4752. 10.11591/ijeecs.v19.i1.pp%25p. \\\n",
    "<a id=\"9\">[9]</a> MacQueen, J. (1967). Some Methods for Classification and Analysis of Multivariate Observations. Proceedings of the Fifth Berkeley Symposium on Mathematical Statistics and Probability, 1, 281–297. \\\n",
    "<a id=\"10\">[10]</a> Bholowalia, Purnima, and Arvind Kumar. \"EBK-means: A clustering technique based on elbow method and k-means in WSN.\" International Journal of Computer Applications 105.9 (2014)."
   ]
  }
 ],
 "metadata": {
  "kernelspec": {
   "display_name": "dm_ca2",
   "language": "python",
   "name": "python3"
  },
  "language_info": {
   "codemirror_mode": {
    "name": "ipython",
    "version": 3
   },
   "file_extension": ".py",
   "mimetype": "text/x-python",
   "name": "python",
   "nbconvert_exporter": "python",
   "pygments_lexer": "ipython3",
   "version": "3.11.0"
  }
 },
 "nbformat": 4,
 "nbformat_minor": 2
}
